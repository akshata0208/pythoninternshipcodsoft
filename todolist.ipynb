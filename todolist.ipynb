{
 "cells": [
  {
   "cell_type": "code",
   "execution_count": null,
   "id": "9b640670-e9bc-454b-8ce4-9e0f6a6ebe89",
   "metadata": {},
   "outputs": [
    {
     "name": "stdout",
     "output_type": "stream",
     "text": [
      "Simple To-Do List Manager\n",
      "\n",
      "\n",
      "Options:\n",
      "1. Add Task\n",
      "2. View Tasks\n",
      "3. Mark Task as Completed\n",
      "4. Remove Task\n",
      "5. Quit\n"
     ]
    },
    {
     "name": "stdin",
     "output_type": "stream",
     "text": [
      "Enter your choice (1-5):  1\n",
      "Enter the task description:  i will sleep\n"
     ]
    },
    {
     "name": "stdout",
     "output_type": "stream",
     "text": [
      "Task added successfully.\n",
      "\n",
      "Options:\n",
      "1. Add Task\n",
      "2. View Tasks\n",
      "3. Mark Task as Completed\n",
      "4. Remove Task\n",
      "5. Quit\n"
     ]
    },
    {
     "name": "stdin",
     "output_type": "stream",
     "text": [
      "Enter your choice (1-5):  1\n",
      "Enter the task description:  i will eat\n"
     ]
    },
    {
     "name": "stdout",
     "output_type": "stream",
     "text": [
      "Task added successfully.\n",
      "\n",
      "Options:\n",
      "1. Add Task\n",
      "2. View Tasks\n",
      "3. Mark Task as Completed\n",
      "4. Remove Task\n",
      "5. Quit\n"
     ]
    },
    {
     "name": "stdin",
     "output_type": "stream",
     "text": [
      "Enter your choice (1-5):  2\n"
     ]
    },
    {
     "name": "stdout",
     "output_type": "stream",
     "text": [
      "IndexDescription              Status         \n",
      "------------------------------------------\n",
      "0    i will sleep             Pending        \n",
      "1    i will eat               Pending        \n",
      "\n",
      "Options:\n",
      "1. Add Task\n",
      "2. View Tasks\n",
      "3. Mark Task as Completed\n",
      "4. Remove Task\n",
      "5. Quit\n"
     ]
    },
    {
     "name": "stdin",
     "output_type": "stream",
     "text": [
      "Enter your choice (1-5):  3\n",
      "Enter the index of the task to mark as completed:  0\n"
     ]
    },
    {
     "name": "stdout",
     "output_type": "stream",
     "text": [
      "Task marked as completed.\n",
      "\n",
      "Options:\n",
      "1. Add Task\n",
      "2. View Tasks\n",
      "3. Mark Task as Completed\n",
      "4. Remove Task\n",
      "5. Quit\n"
     ]
    },
    {
     "name": "stdin",
     "output_type": "stream",
     "text": [
      "Enter your choice (1-5):  2\n"
     ]
    },
    {
     "name": "stdout",
     "output_type": "stream",
     "text": [
      "IndexDescription              Status         \n",
      "------------------------------------------\n",
      "0    i will sleep             Completed      \n",
      "1    i will eat               Pending        \n",
      "\n",
      "Options:\n",
      "1. Add Task\n",
      "2. View Tasks\n",
      "3. Mark Task as Completed\n",
      "4. Remove Task\n",
      "5. Quit\n"
     ]
    },
    {
     "name": "stdin",
     "output_type": "stream",
     "text": [
      "Enter your choice (1-5):  4\n",
      "Enter the index of the task to remove:  0\n"
     ]
    },
    {
     "name": "stdout",
     "output_type": "stream",
     "text": [
      "Task removed successfully.\n",
      "\n",
      "Options:\n",
      "1. Add Task\n",
      "2. View Tasks\n",
      "3. Mark Task as Completed\n",
      "4. Remove Task\n",
      "5. Quit\n"
     ]
    },
    {
     "name": "stdin",
     "output_type": "stream",
     "text": [
      "Enter your choice (1-5):  2\n"
     ]
    },
    {
     "name": "stdout",
     "output_type": "stream",
     "text": [
      "IndexDescription              Status         \n",
      "------------------------------------------\n",
      "0    i will eat               Pending        \n",
      "\n",
      "Options:\n",
      "1. Add Task\n",
      "2. View Tasks\n",
      "3. Mark Task as Completed\n",
      "4. Remove Task\n",
      "5. Quit\n"
     ]
    }
   ],
   "source": [
    "class Task:\n",
    "    def __init__(self, description, completed=False):\n",
    "        self.description = description\n",
    "        self.completed = completed\n",
    "\n",
    "def add_task(tasks, description):\n",
    "    new_task = Task(description)\n",
    "    tasks.append(new_task)\n",
    "    print(\"Task added successfully.\")\n",
    "\n",
    "def view_tasks(tasks):\n",
    "    if not tasks:\n",
    "        print(\"No tasks found.\")\n",
    "    else:\n",
    "        print(f\"{'Index':<5}{'Description':<25}{'Status':<15}\")\n",
    "        print(\"------------------------------------------\")\n",
    "        for i, task in enumerate(tasks):\n",
    "            status = \"Completed\" if task.completed else \"Pending\"\n",
    "            print(f\"{i:<5}{task.description:<25}{status:<15}\")\n",
    "\n",
    "def mark_completed(tasks, index):\n",
    "    if 0 <= index < len(tasks):\n",
    "        tasks[index].completed = True\n",
    "        print(\"Task marked as completed.\")\n",
    "    else:\n",
    "        print(\"Invalid index.\")\n",
    "\n",
    "def remove_task(tasks, index):\n",
    "    if 0 <= index < len(tasks):\n",
    "        del tasks[index]\n",
    "        print(\"Task removed successfully.\")\n",
    "    else:\n",
    "        print(\"Invalid index.\")\n",
    "\n",
    "def main():\n",
    "    tasks = []\n",
    "\n",
    "    print(\"Simple To-Do List Manager\\n\")\n",
    "\n",
    "    while True:\n",
    "        print(\"\\nOptions:\")\n",
    "        print(\"1. Add Task\")\n",
    "        print(\"2. View Tasks\")\n",
    "        print(\"3. Mark Task as Completed\")\n",
    "        print(\"4. Remove Task\")\n",
    "        print(\"5. Quit\")\n",
    "\n",
    "        choice = input(\"Enter your choice (1-5): \")\n",
    "\n",
    "        if choice == \"1\":\n",
    "            description = input(\"Enter the task description: \")\n",
    "            add_task(tasks, description)\n",
    "        elif choice == \"2\":\n",
    "            view_tasks(tasks)\n",
    "        elif choice == \"3\":\n",
    "            index = int(input(\"Enter the index of the task to mark as completed: \"))\n",
    "            mark_completed(tasks, index)\n",
    "        elif choice == \"4\":\n",
    "            index = int(input(\"Enter the index of the task to remove: \"))\n",
    "            remove_task(tasks, index)\n",
    "        elif choice == \"5\":\n",
    "            print(\"Goodbye!\")\n",
    "            break\n",
    "        else:\n",
    "            print(\"Invalid choice. Please enter a number between 1 and 5.\")\n",
    "\n",
    "if __name__ == \"__main__\":\n",
    "    main()\n"
   ]
  },
  {
   "cell_type": "code",
   "execution_count": null,
   "id": "ae6381e4-fdee-48a5-82ce-8ab14f0339d4",
   "metadata": {},
   "outputs": [],
   "source": []
  }
 ],
 "metadata": {
  "kernelspec": {
   "display_name": "Python 3 (ipykernel)",
   "language": "python",
   "name": "python3"
  },
  "language_info": {
   "codemirror_mode": {
    "name": "ipython",
    "version": 3
   },
   "file_extension": ".py",
   "mimetype": "text/x-python",
   "name": "python",
   "nbconvert_exporter": "python",
   "pygments_lexer": "ipython3",
   "version": "3.10.12"
  }
 },
 "nbformat": 4,
 "nbformat_minor": 5
}
