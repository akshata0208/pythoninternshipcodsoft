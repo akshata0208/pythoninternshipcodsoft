{
 "cells": [
  {
   "cell_type": "code",
   "execution_count": 1,
   "id": "fe11a489-d90e-4548-ae3c-e63df5ab7da3",
   "metadata": {},
   "outputs": [
    {
     "name": "stdout",
     "output_type": "stream",
     "text": [
      "Password Generator\n"
     ]
    },
    {
     "name": "stdin",
     "output_type": "stream",
     "text": [
      "Enter the desired length of the password:  78\n"
     ]
    },
    {
     "name": "stdout",
     "output_type": "stream",
     "text": [
      "Generated Password: TyisPW_==:.g7.[jE&ckoTO)~YA<4#LP,FYqa$&8*lHlnR.jl'p4vIQ\"<:M6s%FLC.,_*{E0%<hQE^\n"
     ]
    }
   ],
   "source": [
    "import random\n",
    "import string\n",
    "\n",
    "def generate_password(length):\n",
    "    characters = string.ascii_letters + string.digits + string.punctuation\n",
    "    password = ''.join(random.choice(characters) for _ in range(length))\n",
    "    return password\n",
    "\n",
    "def password_generator():\n",
    "    print(\"Password Generator\")\n",
    "\n",
    "    try:\n",
    "        length = int(input(\"Enter the desired length of the password: \"))\n",
    "        \n",
    "        if length <= 0:\n",
    "            print(\"Please enter a positive integer for the password length.\")\n",
    "            return\n",
    "\n",
    "        password = generate_password(length)\n",
    "        print(f\"Generated Password: {password}\")\n",
    "\n",
    "    except ValueError:\n",
    "        print(\"Invalid input. Please enter a valid integer for the password length.\")\n",
    "\n",
    "if __name__ == \"__main__\":\n",
    "    password_generator()\n"
   ]
  },
  {
   "cell_type": "code",
   "execution_count": null,
   "id": "d801d68c-8724-4192-9631-7e52ffe89508",
   "metadata": {},
   "outputs": [],
   "source": []
  }
 ],
 "metadata": {
  "kernelspec": {
   "display_name": "Python 3 (ipykernel)",
   "language": "python",
   "name": "python3"
  },
  "language_info": {
   "codemirror_mode": {
    "name": "ipython",
    "version": 3
   },
   "file_extension": ".py",
   "mimetype": "text/x-python",
   "name": "python",
   "nbconvert_exporter": "python",
   "pygments_lexer": "ipython3",
   "version": "3.10.12"
  }
 },
 "nbformat": 4,
 "nbformat_minor": 5
}
