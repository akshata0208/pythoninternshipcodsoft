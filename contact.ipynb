{
 "cells": [
  {
   "cell_type": "code",
   "execution_count": null,
   "id": "91a94ea3-a035-4e96-b024-e1d9298026fa",
   "metadata": {},
   "outputs": [
    {
     "name": "stdout",
     "output_type": "stream",
     "text": [
      "\n",
      "Options:\n",
      "1. Add Contact\n",
      "2. View Contact List\n",
      "3. Search Contact\n",
      "4. Update Contact\n",
      "5. Delete Contact\n",
      "6. Quit\n"
     ]
    },
    {
     "name": "stdin",
     "output_type": "stream",
     "text": [
      "Enter your choice (1-6):  1\n",
      "Enter contact name:  akshata\n",
      "Enter phone number:  7262004487\n",
      "Enter email:  akshara@gmail.com\n",
      "Enter address:  jawale\n"
     ]
    },
    {
     "name": "stdout",
     "output_type": "stream",
     "text": [
      "Contact 'akshata' added successfully.\n",
      "\n",
      "Options:\n",
      "1. Add Contact\n",
      "2. View Contact List\n",
      "3. Search Contact\n",
      "4. Update Contact\n",
      "5. Delete Contact\n",
      "6. Quit\n"
     ]
    },
    {
     "name": "stdin",
     "output_type": "stream",
     "text": [
      "Enter your choice (1-6):  2\n"
     ]
    },
    {
     "name": "stdout",
     "output_type": "stream",
     "text": [
      "Contact List:\n",
      "Name: akshata, Phone: 7262004487\n",
      "\n",
      "Options:\n",
      "1. Add Contact\n",
      "2. View Contact List\n",
      "3. Search Contact\n",
      "4. Update Contact\n",
      "5. Delete Contact\n",
      "6. Quit\n"
     ]
    },
    {
     "name": "stdin",
     "output_type": "stream",
     "text": [
      "Enter your choice (1-6):  3\n",
      "Enter name or phone number to search:  akshata\n"
     ]
    },
    {
     "name": "stdout",
     "output_type": "stream",
     "text": [
      "\n",
      "Search Results:\n",
      "Name: akshata, Phone: 7262004487\n",
      "\n",
      "Options:\n",
      "1. Add Contact\n",
      "2. View Contact List\n",
      "3. Search Contact\n",
      "4. Update Contact\n",
      "5. Delete Contact\n",
      "6. Quit\n"
     ]
    },
    {
     "name": "stdin",
     "output_type": "stream",
     "text": [
      "Enter your choice (1-6):  4\n",
      "Enter the name of the contact to update:  akshata\n",
      "Enter new phone number (press Enter to skip):  78234\n",
      "Enter new email (press Enter to skip):  \n",
      "Enter new address (press Enter to skip):  \n"
     ]
    },
    {
     "name": "stdout",
     "output_type": "stream",
     "text": [
      "Contact 'akshata' updated successfully.\n",
      "\n",
      "Options:\n",
      "1. Add Contact\n",
      "2. View Contact List\n",
      "3. Search Contact\n",
      "4. Update Contact\n",
      "5. Delete Contact\n",
      "6. Quit\n"
     ]
    },
    {
     "name": "stdin",
     "output_type": "stream",
     "text": [
      "Enter your choice (1-6):  2\n"
     ]
    },
    {
     "name": "stdout",
     "output_type": "stream",
     "text": [
      "Contact List:\n",
      "Name: akshata, Phone: 78234\n",
      "\n",
      "Options:\n",
      "1. Add Contact\n",
      "2. View Contact List\n",
      "3. Search Contact\n",
      "4. Update Contact\n",
      "5. Delete Contact\n",
      "6. Quit\n"
     ]
    },
    {
     "name": "stdin",
     "output_type": "stream",
     "text": [
      "Enter your choice (1-6):  5\n",
      "Enter the name of the contact to delete:  akshata\n"
     ]
    },
    {
     "name": "stdout",
     "output_type": "stream",
     "text": [
      "Contact 'akshata' deleted successfully.\n",
      "\n",
      "Options:\n",
      "1. Add Contact\n",
      "2. View Contact List\n",
      "3. Search Contact\n",
      "4. Update Contact\n",
      "5. Delete Contact\n",
      "6. Quit\n"
     ]
    },
    {
     "name": "stdin",
     "output_type": "stream",
     "text": [
      "Enter your choice (1-6):  2\n"
     ]
    },
    {
     "name": "stdout",
     "output_type": "stream",
     "text": [
      "No contacts found.\n",
      "\n",
      "Options:\n",
      "1. Add Contact\n",
      "2. View Contact List\n",
      "3. Search Contact\n",
      "4. Update Contact\n",
      "5. Delete Contact\n",
      "6. Quit\n"
     ]
    }
   ],
   "source": [
    "class ContactManager:\n",
    "    def __init__(self):\n",
    "        self.contacts = {}\n",
    "\n",
    "    def add_contact(self, name, phone_number, email, address):\n",
    "        contact = {\n",
    "            'name': name,\n",
    "            'phone_number': phone_number,\n",
    "            'email': email,\n",
    "            'address': address\n",
    "        }\n",
    "        self.contacts[name] = contact\n",
    "        print(f\"Contact '{name}' added successfully.\")\n",
    "\n",
    "    def view_contact_list(self):\n",
    "        if not self.contacts:\n",
    "            print(\"No contacts found.\")\n",
    "        else:\n",
    "            print(\"Contact List:\")\n",
    "            for name, contact in self.contacts.items():\n",
    "                print(f\"Name: {contact['name']}, Phone: {contact['phone_number']}\")\n",
    "\n",
    "    def search_contact(self, keyword):\n",
    "        results = []\n",
    "        for name, contact in self.contacts.items():\n",
    "            if keyword.lower() in name.lower() or keyword in contact['phone_number']:\n",
    "                results.append(contact)\n",
    "        return results\n",
    "\n",
    "    def update_contact(self, name, new_phone_number=None, new_email=None, new_address=None):\n",
    "        if name in self.contacts:\n",
    "            contact = self.contacts[name]\n",
    "            if new_phone_number:\n",
    "                contact['phone_number'] = new_phone_number\n",
    "            if new_email:\n",
    "                contact['email'] = new_email\n",
    "            if new_address:\n",
    "                contact['address'] = new_address\n",
    "            print(f\"Contact '{name}' updated successfully.\")\n",
    "        else:\n",
    "            print(f\"Contact '{name}' not found.\")\n",
    "\n",
    "    def delete_contact(self, name):\n",
    "        if name in self.contacts:\n",
    "            del self.contacts[name]\n",
    "            print(f\"Contact '{name}' deleted successfully.\")\n",
    "        else:\n",
    "            print(f\"Contact '{name}' not found.\")\n",
    "\n",
    "def main():\n",
    "    contact_manager = ContactManager()\n",
    "\n",
    "    while True:\n",
    "        print(\"\\nOptions:\")\n",
    "        print(\"1. Add Contact\")\n",
    "        print(\"2. View Contact List\")\n",
    "        print(\"3. Search Contact\")\n",
    "        print(\"4. Update Contact\")\n",
    "        print(\"5. Delete Contact\")\n",
    "        print(\"6. Quit\")\n",
    "\n",
    "        choice = input(\"Enter your choice (1-6): \")\n",
    "\n",
    "        if choice == '1':\n",
    "            name = input(\"Enter contact name: \")\n",
    "            phone_number = input(\"Enter phone number: \")\n",
    "            email = input(\"Enter email: \")\n",
    "            address = input(\"Enter address: \")\n",
    "            contact_manager.add_contact(name, phone_number, email, address)\n",
    "\n",
    "        elif choice == '2':\n",
    "            contact_manager.view_contact_list()\n",
    "\n",
    "        elif choice == '3':\n",
    "            keyword = input(\"Enter name or phone number to search: \")\n",
    "            results = contact_manager.search_contact(keyword)\n",
    "            if results:\n",
    "                print(\"\\nSearch Results:\")\n",
    "                for result in results:\n",
    "                    print(f\"Name: {result['name']}, Phone: {result['phone_number']}\")\n",
    "            else:\n",
    "                print(\"No matching contacts found.\")\n",
    "\n",
    "        elif choice == '4':\n",
    "            name = input(\"Enter the name of the contact to update: \")\n",
    "            new_phone_number = input(\"Enter new phone number (press Enter to skip): \")\n",
    "            new_email = input(\"Enter new email (press Enter to skip): \")\n",
    "            new_address = input(\"Enter new address (press Enter to skip): \")\n",
    "            contact_manager.update_contact(name, new_phone_number, new_email, new_address)\n",
    "\n",
    "        elif choice == '5':\n",
    "            name = input(\"Enter the name of the contact to delete: \")\n",
    "            contact_manager.delete_contact(name)\n",
    "\n",
    "        elif choice == '6':\n",
    "            print(\"Goodbye!\")\n",
    "            break\n",
    "\n",
    "        else:\n",
    "            print(\"Invalid choice. Please enter a number between 1 and 6.\")\n",
    "\n",
    "if __name__ == \"__main__\":\n",
    "    main()\n"
   ]
  },
  {
   "cell_type": "code",
   "execution_count": null,
   "id": "a8a750b0-5ad3-40ff-91cb-8408a4d8bf29",
   "metadata": {},
   "outputs": [],
   "source": []
  }
 ],
 "metadata": {
  "kernelspec": {
   "display_name": "Python 3 (ipykernel)",
   "language": "python",
   "name": "python3"
  },
  "language_info": {
   "codemirror_mode": {
    "name": "ipython",
    "version": 3
   },
   "file_extension": ".py",
   "mimetype": "text/x-python",
   "name": "python",
   "nbconvert_exporter": "python",
   "pygments_lexer": "ipython3",
   "version": "3.10.12"
  }
 },
 "nbformat": 4,
 "nbformat_minor": 5
}
